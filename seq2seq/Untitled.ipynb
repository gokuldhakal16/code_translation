{
 "cells": [
  {
   "cell_type": "code",
   "execution_count": 1,
   "metadata": {},
   "outputs": [
    {
     "data": {
      "text/plain": [
       "['train',\n",
       " 'Untitled.ipynb',\n",
       " 'javatokenizer.py',\n",
       " 'data_utils (copy).py',\n",
       " 'cplustokenizer.py',\n",
       " 'data_utils_workers.py',\n",
       " 'seq2seq_model.py',\n",
       " '24-game.java',\n",
       " 'data',\n",
       " 'data_utils.py',\n",
       " 'token_map.csv',\n",
       " 'seq2seq.py',\n",
       " 'translate.py',\n",
       " '__init__.py',\n",
       " '__pycache__',\n",
       " 'reset.sh',\n",
       " 'evaluation',\n",
       " 'utils',\n",
       " '.ipynb_checkpoints']"
      ]
     },
     "execution_count": 1,
     "metadata": {},
     "output_type": "execute_result"
    }
   ],
   "source": [
    "import os\n",
    "os.listdir()"
   ]
  },
  {
   "cell_type": "code",
   "execution_count": null,
   "metadata": {
    "collapsed": true
   },
   "outputs": [],
   "source": [
    "from cplustokenizer.tokenizer import "
   ]
  }
 ],
 "metadata": {
  "kernelspec": {
   "display_name": "Python 3",
   "language": "python",
   "name": "python3"
  },
  "language_info": {
   "codemirror_mode": {
    "name": "ipython",
    "version": 3
   },
   "file_extension": ".py",
   "mimetype": "text/x-python",
   "name": "python",
   "nbconvert_exporter": "python",
   "pygments_lexer": "ipython3",
   "version": "3.6.2"
  }
 },
 "nbformat": 4,
 "nbformat_minor": 2
}
